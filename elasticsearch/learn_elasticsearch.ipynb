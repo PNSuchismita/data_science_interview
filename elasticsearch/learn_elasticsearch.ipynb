{
 "cells": [
  {
   "cell_type": "code",
   "execution_count": 1,
   "metadata": {
    "collapsed": false
   },
   "outputs": [
    {
     "name": "stdout",
     "output_type": "stream",
     "text": [
      "{\n",
      "  \"name\" : \"Sphinxor\",\n",
      "  \"cluster_name\" : \"elasticsearch\",\n",
      "  \"version\" : {\n",
      "    \"number\" : \"2.4.0\",\n",
      "    \"build_hash\" : \"ce9f0c7394dee074091dd1bc4e9469251181fc55\",\n",
      "    \"build_timestamp\" : \"2016-08-29T09:14:17Z\",\n",
      "    \"build_snapshot\" : false,\n",
      "    \"lucene_version\" : \"5.5.2\"\n",
      "  },\n",
      "  \"tagline\" : \"You Know, for Search\"\n",
      "}\n",
      "\n"
     ]
    }
   ],
   "source": [
    "# make sure ES is up and running\n",
    "import requests\n",
    "res = requests.get('http://localhost:9200')\n",
    "print(res.content)"
   ]
  },
  {
   "cell_type": "code",
   "execution_count": 2,
   "metadata": {
    "collapsed": false
   },
   "outputs": [],
   "source": [
    "#connect to our cluster\n",
    "from elasticsearch import Elasticsearch\n",
    "es = Elasticsearch([{'host': 'localhost', 'port': 9200}])"
   ]
  },
  {
   "cell_type": "code",
   "execution_count": 3,
   "metadata": {
    "collapsed": false
   },
   "outputs": [
    {
     "data": {
      "text/plain": [
       "{u'_id': u'1',\n",
       " u'_index': u'test-index',\n",
       " u'_shards': {u'failed': 0, u'successful': 1, u'total': 2},\n",
       " u'_type': u'test',\n",
       " u'_version': 1,\n",
       " u'created': True}"
      ]
     },
     "execution_count": 3,
     "metadata": {},
     "output_type": "execute_result"
    }
   ],
   "source": [
    "#index some test data\n",
    "es.index(index='test-index', doc_type='test', id=1, body={'test': 'test'})"
   ]
  },
  {
   "cell_type": "code",
   "execution_count": 4,
   "metadata": {
    "collapsed": false
   },
   "outputs": [
    {
     "data": {
      "text/plain": [
       "{u'_id': u'1',\n",
       " u'_index': u'test-index',\n",
       " u'_shards': {u'failed': 0, u'successful': 1, u'total': 2},\n",
       " u'_type': u'test',\n",
       " u'_version': 2,\n",
       " u'found': True}"
      ]
     },
     "execution_count": 4,
     "metadata": {},
     "output_type": "execute_result"
    }
   ],
   "source": [
    "#delete test data and try with something more interesting\n",
    "es.delete(index='test-index', doc_type='test', id=1)\n"
   ]
  },
  {
   "cell_type": "code",
   "execution_count": 5,
   "metadata": {
    "collapsed": false
   },
   "outputs": [
    {
     "data": {
      "text/plain": [
       "{u'_id': u'1',\n",
       " u'_index': u'sw',\n",
       " u'_shards': {u'failed': 0, u'successful': 1, u'total': 2},\n",
       " u'_type': u'people',\n",
       " u'_version': 1,\n",
       " u'created': True}"
      ]
     },
     "execution_count": 5,
     "metadata": {},
     "output_type": "execute_result"
    }
   ],
   "source": [
    "es.index(index='sw', doc_type='people', id=1, body={\n",
    "\t\"name\": \"Luke Skywalker\",\n",
    "\t\"height\": \"172\",\n",
    "\t\"mass\": \"77\",\n",
    "\t\"hair_color\": \"blond\",\n",
    "\t\"birth_year\": \"19BBY\",\n",
    "\t\"gender\": \"male\",\n",
    "})"
   ]
  },
  {
   "cell_type": "code",
   "execution_count": 6,
   "metadata": {
    "collapsed": false
   },
   "outputs": [
    {
     "name": "stdout",
     "output_type": "stream",
     "text": [
      "18\n"
     ]
    }
   ],
   "source": [
    "#let's iterate over swapi people documents and index them\n",
    "import json\n",
    "r = requests.get('http://localhost:9200') \n",
    "i = 1\n",
    "while r.status_code == 200:\n",
    "    r = requests.get('http://swapi.co/api/people/'+ str(i))\n",
    "    es.index(index='sw', doc_type='people', id=i, body=json.loads(r.content))\n",
    "    i=i+1\n",
    "    \n",
    "print(i)"
   ]
  },
  {
   "cell_type": "code",
   "execution_count": 7,
   "metadata": {
    "collapsed": false
   },
   "outputs": [
    {
     "name": "stdout",
     "output_type": "stream",
     "text": [
      "90\n"
     ]
    }
   ],
   "source": [
    "#let's add more data but using node 2! Starting where the other stopped\n",
    "import json\n",
    "\n",
    "r = requests.get('http://localhost:9200') \n",
    "i = 18\n",
    "while r.status_code == 200:\n",
    "    r = requests.get('http://swapi.co/api/people/'+ str(i))\n",
    "    es.index(index='sw', doc_type='people', id=i, body=json.loads(r.content))\n",
    "    i=i+1\n",
    "print(i)"
   ]
  },
  {
   "cell_type": "code",
   "execution_count": 8,
   "metadata": {
    "collapsed": false
   },
   "outputs": [
    {
     "data": {
      "text/plain": [
       "{u'_id': u'65',\n",
       " u'_index': u'sw',\n",
       " u'_source': {u'birth_year': u'40BBY',\n",
       "  u'created': u'2014-12-20T16:46:40.440000Z',\n",
       "  u'edited': u'2014-12-20T21:17:50.457000Z',\n",
       "  u'eye_color': u'blue',\n",
       "  u'films': [u'http://swapi.co/api/films/5/'],\n",
       "  u'gender': u'female',\n",
       "  u'hair_color': u'black',\n",
       "  u'height': u'166',\n",
       "  u'homeworld': u'http://swapi.co/api/planets/51/',\n",
       "  u'mass': u'50',\n",
       "  u'name': u'Barriss Offee',\n",
       "  u'skin_color': u'yellow',\n",
       "  u'species': [u'http://swapi.co/api/species/29/'],\n",
       "  u'starships': [],\n",
       "  u'url': u'http://swapi.co/api/people/65/',\n",
       "  u'vehicles': []},\n",
       " u'_type': u'people',\n",
       " u'_version': 1,\n",
       " u'found': True}"
      ]
     },
     "execution_count": 8,
     "metadata": {},
     "output_type": "execute_result"
    }
   ],
   "source": [
    "es.get(index='sw', doc_type='people', id=65)"
   ]
  },
  {
   "cell_type": "code",
   "execution_count": 9,
   "metadata": {
    "collapsed": false
   },
   "outputs": [
    {
     "data": {
      "text/plain": [
       "{u'_shards': {u'failed': 0, u'successful': 5, u'total': 5},\n",
       " u'hits': {u'hits': [], u'max_score': None, u'total': 0},\n",
       " u'timed_out': False,\n",
       " u'took': 116}"
      ]
     },
     "execution_count": 9,
     "metadata": {},
     "output_type": "execute_result"
    }
   ],
   "source": [
    "#let's find darth vader\n",
    "es.search(index=\"sw\", body={\"query\": {\"prefix\" : { \"name\" : \"Darth Vader\" }}})"
   ]
  },
  {
   "cell_type": "code",
   "execution_count": 10,
   "metadata": {
    "collapsed": false
   },
   "outputs": [
    {
     "data": {
      "text/plain": [
       "{u'_shards': {u'failed': 0, u'successful': 5, u'total': 5},\n",
       " u'hits': {u'hits': [{u'_id': u'1',\n",
       "    u'_index': u'sw',\n",
       "    u'_score': 1.0,\n",
       "    u'_source': {u'birth_year': u'19BBY',\n",
       "     u'created': u'2014-12-09T13:50:51.644000Z',\n",
       "     u'edited': u'2014-12-20T21:17:56.891000Z',\n",
       "     u'eye_color': u'blue',\n",
       "     u'films': [u'http://swapi.co/api/films/6/',\n",
       "      u'http://swapi.co/api/films/3/',\n",
       "      u'http://swapi.co/api/films/2/',\n",
       "      u'http://swapi.co/api/films/1/',\n",
       "      u'http://swapi.co/api/films/7/'],\n",
       "     u'gender': u'male',\n",
       "     u'hair_color': u'blond',\n",
       "     u'height': u'172',\n",
       "     u'homeworld': u'http://swapi.co/api/planets/1/',\n",
       "     u'mass': u'77',\n",
       "     u'name': u'Luke Skywalker',\n",
       "     u'skin_color': u'fair',\n",
       "     u'species': [u'http://swapi.co/api/species/1/'],\n",
       "     u'starships': [u'http://swapi.co/api/starships/12/',\n",
       "      u'http://swapi.co/api/starships/22/'],\n",
       "     u'url': u'http://swapi.co/api/people/1/',\n",
       "     u'vehicles': [u'http://swapi.co/api/vehicles/14/',\n",
       "      u'http://swapi.co/api/vehicles/30/']},\n",
       "    u'_type': u'people'},\n",
       "   {u'_id': u'64',\n",
       "    u'_index': u'sw',\n",
       "    u'_score': 1.0,\n",
       "    u'_source': {u'birth_year': u'58BBY',\n",
       "     u'created': u'2014-12-20T16:45:53.668000Z',\n",
       "     u'edited': u'2014-12-20T21:17:50.455000Z',\n",
       "     u'eye_color': u'blue',\n",
       "     u'films': [u'http://swapi.co/api/films/5/',\n",
       "      u'http://swapi.co/api/films/6/'],\n",
       "     u'gender': u'female',\n",
       "     u'hair_color': u'black',\n",
       "     u'height': u'170',\n",
       "     u'homeworld': u'http://swapi.co/api/planets/51/',\n",
       "     u'mass': u'56.2',\n",
       "     u'name': u'Luminara Unduli',\n",
       "     u'skin_color': u'yellow',\n",
       "     u'species': [u'http://swapi.co/api/species/29/'],\n",
       "     u'starships': [],\n",
       "     u'url': u'http://swapi.co/api/people/64/',\n",
       "     u'vehicles': []},\n",
       "    u'_type': u'people'}],\n",
       "  u'max_score': 1.0,\n",
       "  u'total': 2},\n",
       " u'timed_out': False,\n",
       " u'took': 22}"
      ]
     },
     "execution_count": 10,
     "metadata": {},
     "output_type": "execute_result"
    }
   ],
   "source": [
    "#let's see if we find anyone with a name or surname starting with lu\n",
    "es.search(index=\"sw\", body={\"query\": {\"prefix\" : { \"name\" : \"lu\" }}})"
   ]
  },
  {
   "cell_type": "code",
   "execution_count": 11,
   "metadata": {
    "collapsed": false
   },
   "outputs": [
    {
     "ename": "RequestError",
     "evalue": "TransportError(400, u'search_phase_execution_exception', u'No query registered for [fuzzy_like_this_field]')",
     "output_type": "error",
     "traceback": [
      "\u001b[0;31m---------------------------------------------------------------------------\u001b[0m",
      "\u001b[0;31mRequestError\u001b[0m                              Traceback (most recent call last)",
      "\u001b[0;32m<ipython-input-11-53db2a161759>\u001b[0m in \u001b[0;36m<module>\u001b[0;34m()\u001b[0m\n\u001b[1;32m      1\u001b[0m \u001b[0;31m#let's try a fuzzy query\u001b[0m\u001b[0;34m\u001b[0m\u001b[0;34m\u001b[0m\u001b[0m\n\u001b[0;32m----> 2\u001b[0;31m \u001b[0mq\u001b[0m \u001b[0;34m=\u001b[0m \u001b[0mes\u001b[0m\u001b[0;34m.\u001b[0m\u001b[0msearch\u001b[0m\u001b[0;34m(\u001b[0m\u001b[0mindex\u001b[0m\u001b[0;34m=\u001b[0m\u001b[0;34m\"sw\"\u001b[0m\u001b[0;34m,\u001b[0m \u001b[0mbody\u001b[0m\u001b[0;34m=\u001b[0m\u001b[0;34m{\u001b[0m\u001b[0;34m\"query\"\u001b[0m\u001b[0;34m:\u001b[0m \u001b[0;34m{\u001b[0m\u001b[0;34m\"fuzzy_like_this_field\"\u001b[0m \u001b[0;34m:\u001b[0m \u001b[0;34m{\u001b[0m \u001b[0;34m\"name\"\u001b[0m \u001b[0;34m:\u001b[0m \u001b[0;34m{\u001b[0m\u001b[0;34m\"like_text\"\u001b[0m\u001b[0;34m:\u001b[0m \u001b[0;34m\"jaba\"\u001b[0m\u001b[0;34m,\u001b[0m \u001b[0;34m\"max_query_terms\"\u001b[0m\u001b[0;34m:\u001b[0m\u001b[0;36m5\u001b[0m\u001b[0;34m}\u001b[0m\u001b[0;34m}\u001b[0m\u001b[0;34m}\u001b[0m\u001b[0;34m}\u001b[0m\u001b[0;34m)\u001b[0m\u001b[0;34m\u001b[0m\u001b[0m\n\u001b[0m",
      "\u001b[0;32m/Library/Python/2.7/site-packages/elasticsearch/client/utils.pyc\u001b[0m in \u001b[0;36m_wrapped\u001b[0;34m(*args, **kwargs)\u001b[0m\n\u001b[1;32m     67\u001b[0m                 \u001b[0;32mif\u001b[0m \u001b[0mp\u001b[0m \u001b[0;32min\u001b[0m \u001b[0mkwargs\u001b[0m\u001b[0;34m:\u001b[0m\u001b[0;34m\u001b[0m\u001b[0m\n\u001b[1;32m     68\u001b[0m                     \u001b[0mparams\u001b[0m\u001b[0;34m[\u001b[0m\u001b[0mp\u001b[0m\u001b[0;34m]\u001b[0m \u001b[0;34m=\u001b[0m \u001b[0mkwargs\u001b[0m\u001b[0;34m.\u001b[0m\u001b[0mpop\u001b[0m\u001b[0;34m(\u001b[0m\u001b[0mp\u001b[0m\u001b[0;34m)\u001b[0m\u001b[0;34m\u001b[0m\u001b[0m\n\u001b[0;32m---> 69\u001b[0;31m             \u001b[0;32mreturn\u001b[0m \u001b[0mfunc\u001b[0m\u001b[0;34m(\u001b[0m\u001b[0;34m*\u001b[0m\u001b[0margs\u001b[0m\u001b[0;34m,\u001b[0m \u001b[0mparams\u001b[0m\u001b[0;34m=\u001b[0m\u001b[0mparams\u001b[0m\u001b[0;34m,\u001b[0m \u001b[0;34m**\u001b[0m\u001b[0mkwargs\u001b[0m\u001b[0;34m)\u001b[0m\u001b[0;34m\u001b[0m\u001b[0m\n\u001b[0m\u001b[1;32m     70\u001b[0m         \u001b[0;32mreturn\u001b[0m \u001b[0m_wrapped\u001b[0m\u001b[0;34m\u001b[0m\u001b[0m\n\u001b[1;32m     71\u001b[0m     \u001b[0;32mreturn\u001b[0m \u001b[0m_wrapper\u001b[0m\u001b[0;34m\u001b[0m\u001b[0m\n",
      "\u001b[0;32m/Library/Python/2.7/site-packages/elasticsearch/client/__init__.pyc\u001b[0m in \u001b[0;36msearch\u001b[0;34m(self, index, doc_type, body, params)\u001b[0m\n\u001b[1;32m    537\u001b[0m             \u001b[0mindex\u001b[0m \u001b[0;34m=\u001b[0m \u001b[0;34m'_all'\u001b[0m\u001b[0;34m\u001b[0m\u001b[0m\n\u001b[1;32m    538\u001b[0m         return self.transport.perform_request('GET', _make_path(index,\n\u001b[0;32m--> 539\u001b[0;31m             doc_type, '_search'), params=params, body=body)\n\u001b[0m\u001b[1;32m    540\u001b[0m \u001b[0;34m\u001b[0m\u001b[0m\n\u001b[1;32m    541\u001b[0m     @query_params('allow_no_indices', 'expand_wildcards', 'ignore_unavailable',\n",
      "\u001b[0;32m/Library/Python/2.7/site-packages/elasticsearch/transport.pyc\u001b[0m in \u001b[0;36mperform_request\u001b[0;34m(self, method, url, params, body)\u001b[0m\n\u001b[1;32m    325\u001b[0m \u001b[0;34m\u001b[0m\u001b[0m\n\u001b[1;32m    326\u001b[0m             \u001b[0;32mtry\u001b[0m\u001b[0;34m:\u001b[0m\u001b[0;34m\u001b[0m\u001b[0m\n\u001b[0;32m--> 327\u001b[0;31m                 \u001b[0mstatus\u001b[0m\u001b[0;34m,\u001b[0m \u001b[0mheaders\u001b[0m\u001b[0;34m,\u001b[0m \u001b[0mdata\u001b[0m \u001b[0;34m=\u001b[0m \u001b[0mconnection\u001b[0m\u001b[0;34m.\u001b[0m\u001b[0mperform_request\u001b[0m\u001b[0;34m(\u001b[0m\u001b[0mmethod\u001b[0m\u001b[0;34m,\u001b[0m \u001b[0murl\u001b[0m\u001b[0;34m,\u001b[0m \u001b[0mparams\u001b[0m\u001b[0;34m,\u001b[0m \u001b[0mbody\u001b[0m\u001b[0;34m,\u001b[0m \u001b[0mignore\u001b[0m\u001b[0;34m=\u001b[0m\u001b[0mignore\u001b[0m\u001b[0;34m,\u001b[0m \u001b[0mtimeout\u001b[0m\u001b[0;34m=\u001b[0m\u001b[0mtimeout\u001b[0m\u001b[0;34m)\u001b[0m\u001b[0;34m\u001b[0m\u001b[0m\n\u001b[0m\u001b[1;32m    328\u001b[0m \u001b[0;34m\u001b[0m\u001b[0m\n\u001b[1;32m    329\u001b[0m             \u001b[0;32mexcept\u001b[0m \u001b[0mTransportError\u001b[0m \u001b[0;32mas\u001b[0m \u001b[0me\u001b[0m\u001b[0;34m:\u001b[0m\u001b[0;34m\u001b[0m\u001b[0m\n",
      "\u001b[0;32m/Library/Python/2.7/site-packages/elasticsearch/connection/http_urllib3.pyc\u001b[0m in \u001b[0;36mperform_request\u001b[0;34m(self, method, url, params, body, timeout, ignore)\u001b[0m\n\u001b[1;32m    107\u001b[0m         \u001b[0;32mif\u001b[0m \u001b[0;32mnot\u001b[0m \u001b[0;34m(\u001b[0m\u001b[0;36m200\u001b[0m \u001b[0;34m<=\u001b[0m \u001b[0mresponse\u001b[0m\u001b[0;34m.\u001b[0m\u001b[0mstatus\u001b[0m \u001b[0;34m<\u001b[0m \u001b[0;36m300\u001b[0m\u001b[0;34m)\u001b[0m \u001b[0;32mand\u001b[0m \u001b[0mresponse\u001b[0m\u001b[0;34m.\u001b[0m\u001b[0mstatus\u001b[0m \u001b[0;32mnot\u001b[0m \u001b[0;32min\u001b[0m \u001b[0mignore\u001b[0m\u001b[0;34m:\u001b[0m\u001b[0;34m\u001b[0m\u001b[0m\n\u001b[1;32m    108\u001b[0m             \u001b[0mself\u001b[0m\u001b[0;34m.\u001b[0m\u001b[0mlog_request_fail\u001b[0m\u001b[0;34m(\u001b[0m\u001b[0mmethod\u001b[0m\u001b[0;34m,\u001b[0m \u001b[0murl\u001b[0m\u001b[0;34m,\u001b[0m \u001b[0mbody\u001b[0m\u001b[0;34m,\u001b[0m \u001b[0mduration\u001b[0m\u001b[0;34m,\u001b[0m \u001b[0mresponse\u001b[0m\u001b[0;34m.\u001b[0m\u001b[0mstatus\u001b[0m\u001b[0;34m,\u001b[0m \u001b[0mraw_data\u001b[0m\u001b[0;34m)\u001b[0m\u001b[0;34m\u001b[0m\u001b[0m\n\u001b[0;32m--> 109\u001b[0;31m             \u001b[0mself\u001b[0m\u001b[0;34m.\u001b[0m\u001b[0m_raise_error\u001b[0m\u001b[0;34m(\u001b[0m\u001b[0mresponse\u001b[0m\u001b[0;34m.\u001b[0m\u001b[0mstatus\u001b[0m\u001b[0;34m,\u001b[0m \u001b[0mraw_data\u001b[0m\u001b[0;34m)\u001b[0m\u001b[0;34m\u001b[0m\u001b[0m\n\u001b[0m\u001b[1;32m    110\u001b[0m \u001b[0;34m\u001b[0m\u001b[0m\n\u001b[1;32m    111\u001b[0m         self.log_request_success(method, full_url, url, body, response.status,\n",
      "\u001b[0;32m/Library/Python/2.7/site-packages/elasticsearch/connection/base.pyc\u001b[0m in \u001b[0;36m_raise_error\u001b[0;34m(self, status_code, raw_data)\u001b[0m\n\u001b[1;32m    111\u001b[0m             \u001b[0mlogger\u001b[0m\u001b[0;34m.\u001b[0m\u001b[0mwarning\u001b[0m\u001b[0;34m(\u001b[0m\u001b[0;34m'Undecodable raw error response from server: %s'\u001b[0m\u001b[0;34m,\u001b[0m \u001b[0merr\u001b[0m\u001b[0;34m)\u001b[0m\u001b[0;34m\u001b[0m\u001b[0m\n\u001b[1;32m    112\u001b[0m \u001b[0;34m\u001b[0m\u001b[0m\n\u001b[0;32m--> 113\u001b[0;31m         \u001b[0;32mraise\u001b[0m \u001b[0mHTTP_EXCEPTIONS\u001b[0m\u001b[0;34m.\u001b[0m\u001b[0mget\u001b[0m\u001b[0;34m(\u001b[0m\u001b[0mstatus_code\u001b[0m\u001b[0;34m,\u001b[0m \u001b[0mTransportError\u001b[0m\u001b[0;34m)\u001b[0m\u001b[0;34m(\u001b[0m\u001b[0mstatus_code\u001b[0m\u001b[0;34m,\u001b[0m \u001b[0merror_message\u001b[0m\u001b[0;34m,\u001b[0m \u001b[0madditional_info\u001b[0m\u001b[0;34m)\u001b[0m\u001b[0;34m\u001b[0m\u001b[0m\n\u001b[0m\u001b[1;32m    114\u001b[0m \u001b[0;34m\u001b[0m\u001b[0m\n\u001b[1;32m    115\u001b[0m \u001b[0;34m\u001b[0m\u001b[0m\n",
      "\u001b[0;31mRequestError\u001b[0m: TransportError(400, u'search_phase_execution_exception', u'No query registered for [fuzzy_like_this_field]')"
     ]
    }
   ],
   "source": [
    "#let's try a fuzzy query\n",
    "q = es.search(index=\"sw\", body={\"query\": {\"fuzzy_like_this_field\" : { \"name\" : {\"like_text\": \"jaba\", \"max_query_terms\":5}}}})"
   ]
  },
  {
   "cell_type": "code",
   "execution_count": null,
   "metadata": {
    "collapsed": true
   },
   "outputs": [],
   "source": []
  }
 ],
 "metadata": {
  "kernelspec": {
   "display_name": "Python 2",
   "language": "python",
   "name": "python2"
  },
  "language_info": {
   "codemirror_mode": {
    "name": "ipython",
    "version": 2
   },
   "file_extension": ".py",
   "mimetype": "text/x-python",
   "name": "python",
   "nbconvert_exporter": "python",
   "pygments_lexer": "ipython2",
   "version": "2.7.11"
  }
 },
 "nbformat": 4,
 "nbformat_minor": 0
}
