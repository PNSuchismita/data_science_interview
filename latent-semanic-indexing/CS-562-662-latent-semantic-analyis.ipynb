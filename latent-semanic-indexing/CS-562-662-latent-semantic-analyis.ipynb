{
 "metadata": {
  "name": "",
  "signature": "sha256:8c6a91e1d1eeced9d3b588ab5e218d48dd20b6f1510acbecb16c8cc703b632a3"
 },
 "nbformat": 3,
 "nbformat_minor": 0,
 "worksheets": [
  {
   "cells": [
    {
     "cell_type": "heading",
     "level": 1,
     "metadata": {},
     "source": [
      "CS 562/662 (Natural Language Processing): \n",
      "\n",
      "Latent semantic analysis ([Kyle Gorman](gormanky@ohsu.edu))"
     ]
    },
    {
     "cell_type": "code",
     "collapsed": false,
     "input": [
      "from re import findall\n",
      "from collections import Counter\n",
      "from numpy import allclose, diag, dot, zeros\n",
      "from numpy.linalg import norm, svd\n",
      "\n",
      "%pylab\n",
      "%matplotlib inline"
     ],
     "language": "python",
     "metadata": {},
     "outputs": [
      {
       "output_type": "stream",
       "stream": "stdout",
       "text": [
        "Using matplotlib backend: MacOSX\n",
        "Populating the interactive namespace from numpy and matplotlib\n"
       ]
      }
     ],
     "prompt_number": 1
    },
    {
     "cell_type": "heading",
     "level": 1,
     "metadata": {},
     "source": [
      "Introduction"
     ]
    },
    {
     "cell_type": "markdown",
     "metadata": {},
     "source": [
      "In the previous lecture we introduced the notion of a _term-document matrix_, which summarizes word coocurence statistics for multiple \"documents\". Each row $t_i$ in a term-document matrix represents a _term_ (i.e., a word or stem) and the frequency with which it occurs in each document. And, each column $d_j$ in such a matrix represents a _document_ and the frequency with which it employs each term. A term-document matrix thus contains a great deal of information about the associations between words and between documents (in the collection of documents that make it up)."
     ]
    },
    {
     "cell_type": "markdown",
     "metadata": {},
     "source": [
      "More specifically (and wonkishly), given a term-document matrix $X$ with $T$ terms and $D$ documents:\n",
      "\n",
      "* the dot product of two rows of terms ($t{_i}{^T} t{_q}$) in $X$ is the correlation between terms $t_i$ and $t_j$, and the matrix $X X^T$ contains all such dot products\n",
      "* the dot product of two columns of documents ($d{_j}{^T} d{_q}$) in $X$ is the correlation between two documents, and the matrix $X^T X$ contains all such dot products"
     ]
    },
    {
     "cell_type": "markdown",
     "metadata": {},
     "source": [
      "_Latent semantic analysis_ (LSA), also sometimes known as _latent semantic indexing_ (LSI), is a method to exploit information in term-document matrices using first principles from linear algebra. In particular, we use dimensionality reduction techniques to create a much-reduced form of the term-document matrix, and then use this to project terms and documents into a low-dimensionality \"topic space\", in which we can perform basic clustering and comparison of both terms and documents."
     ]
    },
    {
     "cell_type": "heading",
     "level": 1,
     "metadata": {},
     "source": [
      "Constructing a term-document matrix"
     ]
    },
    {
     "cell_type": "markdown",
     "metadata": {},
     "source": [
      "The following example comes from Deeerwester et al. 1990. The first set of \"documents\" (actually, paper titles) are related to human-computer interaction (HCI), and the second are related to graph theory. We assume that terms which are not \"underlined\" (e.g., `_term_`) are filtered out (as stopwords or due to low term or document frequency.)"
     ]
    },
    {
     "cell_type": "code",
     "collapsed": false,
     "input": [
      "# HCI-related documents\n",
      "c0 = \"\"\"\n",
      "_Human_ machine _interface_ for Lab ABC _computer_ applications\n",
      "A _survey_ of _user_ opinion of _computer_ _system_ _response_ _time_\n",
      "The _EPS_ _user_ _interface_ management _system_\n",
      "_System_ and _human_ _system_ engineering testing of _EPS_\n",
      "Relation of _user_-perceived _response_ _time_ to error measurement\n",
      "\"\"\"\n",
      "# Graph-theory-related documents\n",
      "c1 = \"\"\"\n",
      "The generation of random binary unordered _trees_\n",
      "The intersection _graph_ of paths in _trees_\n",
      "_Graph_ _minors_ IV: Widths of _trees_ and well-quasi-ordering\n",
      "_Graph_ _minors_: A _survey_\n",
      "\"\"\"\n",
      "\n",
      "def prep_corpus(lines):\n",
      "    \"\"\"\n",
      "    Given `lines` (a string) of text, generate the corresponding\n",
      "    corpus (a list of \"documents\", where each document is a list \n",
      "    of terms\n",
      "    \"\"\"\n",
      "    for line in lines.split(\"\\n\"):\n",
      "        # ignore empty lines\n",
      "        if not line:\n",
      "            continue\n",
      "        yield [term.upper() for term in findall(r\"_(.*?)_\", line)]\n",
      "    \n",
      "corpus = prep_corpus(c0 + c1)"
     ],
     "language": "python",
     "metadata": {},
     "outputs": [],
     "prompt_number": 2
    },
    {
     "cell_type": "markdown",
     "metadata": {},
     "source": [
      "The following function constructs a dense (i.e., full-rank) term-document matrix from the `corpus` object."
     ]
    },
    {
     "cell_type": "code",
     "collapsed": false,
     "input": [
      "def termdoc_index(corpus):\n",
      "    \"\"\"\n",
      "    Given a `corpus` (a list of documents, which are themselves \n",
      "    lists of terms), return a dense term-document matrix and a \n",
      "    term index\n",
      "    \n",
      "    Many things you might do (such as filter by DF or TF) are not\n",
      "    implemented here\n",
      "    \"\"\"\n",
      "    # collect sparse frequencies\n",
      "    terms = set() # to populate a term index\n",
      "    termdoc_sparse = [] # to populate dense a t-d matrix\n",
      "    for doc in corpus:\n",
      "        # compute term frequencies for this document\n",
      "        column_sparse = Counter(doc)\n",
      "        # save term frequencies\n",
      "        termdoc_sparse.append(column_sparse)\n",
      "        # add new terms to term set\n",
      "        terms.update(column_sparse.iterkeys())\n",
      "    # convert term set to index\n",
      "    index = {term: i for (i, term) in enumerate(terms)}\n",
      "    # build dense matrix\n",
      "    termdoc_dense = zeros((len(terms), len(termdoc_sparse)))\n",
      "    for (j, column_sparse) in enumerate(termdoc_sparse):\n",
      "        # a pointer to a column in the term-document matrix:\n",
      "        column_dense = termdoc_dense[:, j]\n",
      "        for (term, freq) in column_sparse.iteritems():\n",
      "            i = index[term]\n",
      "            column_dense[i] = freq\n",
      "            # equivalently: `termdoc_dense[i, j] = freq`\n",
      "    return (termdoc_dense, index)\n",
      "\n",
      "(X, index) = termdoc_index(corpus)\n",
      "print(X)"
     ],
     "language": "python",
     "metadata": {},
     "outputs": [
      {
       "output_type": "stream",
       "stream": "stdout",
       "text": [
        "[[ 0.  0.  0.  0.  0.  0.  0.  1.  1.]\n",
        " [ 0.  0.  0.  0.  0.  0.  1.  1.  1.]\n",
        " [ 0.  1.  1.  2.  0.  0.  0.  0.  0.]\n",
        " [ 0.  0.  0.  0.  0.  1.  1.  1.  0.]\n",
        " [ 0.  0.  1.  1.  0.  0.  0.  0.  0.]\n",
        " [ 1.  1.  0.  0.  0.  0.  0.  0.  0.]\n",
        " [ 0.  1.  0.  0.  0.  0.  0.  0.  1.]\n",
        " [ 0.  1.  1.  0.  1.  0.  0.  0.  0.]\n",
        " [ 1.  0.  0.  1.  0.  0.  0.  0.  0.]\n",
        " [ 0.  1.  0.  0.  1.  0.  0.  0.  0.]\n",
        " [ 1.  0.  1.  0.  0.  0.  0.  0.  0.]\n",
        " [ 0.  1.  0.  0.  1.  0.  0.  0.  0.]]\n"
       ]
      }
     ],
     "prompt_number": 3
    },
    {
     "cell_type": "markdown",
     "metadata": {},
     "source": [
      "We'll also hold on to some pointers to terms and documents, for later."
     ]
    },
    {
     "cell_type": "code",
     "collapsed": false,
     "input": [
      "t_human = X[index[\"HUMAN\"], :]\n",
      "t_user = X[index[\"USER\"], :]\n",
      "t_graph = X[index[\"GRAPH\"], :]\n",
      "d_ABC = X[:, 0]\n",
      "d_response = X[:, 4]\n",
      "d_survey = X[:, 8]\n",
      "print t_graph  # \"GRAPH\" occurs only in the graph-theory corpus"
     ],
     "language": "python",
     "metadata": {},
     "outputs": [
      {
       "output_type": "stream",
       "stream": "stdout",
       "text": [
        "[ 0.  0.  0.  0.  0.  0.  1.  1.  1.]\n"
       ]
      }
     ],
     "prompt_number": 4
    },
    {
     "cell_type": "heading",
     "level": 1,
     "metadata": {},
     "source": [
      "Dimensionality reduction"
     ]
    },
    {
     "cell_type": "markdown",
     "metadata": {},
     "source": [
      "One problem when working in a larger scale (than this toy example) is that the dense term-document matrix grows very rapidly, even if we remove terms with low term frequency or low document frequency. So we wish to generate a low-rank approximation of this matrix. This is accomplished using a matrix factorization technique known as _singular value decomposition_ defined as follows. The singular value decomposition of a matrix $X$ is given by three matrices $U$, $\\Sigma$, and $V$ such that\n",
      "\n",
      "$$\\hat{X} = U \\Sigma V^T$$ \n",
      "\n",
      "where $U$, $\\Sigma$, and $V$ are all matrices. **In other words, $X$ can be approximated by the product of three square matrices.**"
     ]
    },
    {
     "cell_type": "code",
     "collapsed": false,
     "input": [
      "(U, Sigma_diag, V) = svd(X, full_matrices=False)\n",
      "Sigma = diag(Sigma_diag)\n",
      "print allclose(X, dot(U, dot(Sigma, V)))  # not a bad approximation!"
     ],
     "language": "python",
     "metadata": {},
     "outputs": [
      {
       "output_type": "stream",
       "stream": "stdout",
       "text": [
        "True\n"
       ]
      }
     ],
     "prompt_number": 5
    },
    {
     "cell_type": "markdown",
     "metadata": {},
     "source": [
      "In this decomposition, $U$ is a orthogonal matrix; $\\Sigma$ is a diagonal square matrix; $V$ is a orthogonal square matrix with the dimensionality determined by the number of documents."
     ]
    },
    {
     "cell_type": "code",
     "collapsed": false,
     "input": [
      "print \"U dimensionality:\\t{}\".format(U.shape)\n",
      "print \"Sigma dimensionality:\\t{}\".format(Sigma.shape)\n",
      "print \"V dimensionality:\\t{}\".format(V.shape)"
     ],
     "language": "python",
     "metadata": {},
     "outputs": [
      {
       "output_type": "stream",
       "stream": "stdout",
       "text": [
        "U dimensionality:\t(12, 9)\n",
        "Sigma dimensionality:\t(9, 9)\n",
        "V dimensionality:\t(9, 9)\n"
       ]
      }
     ],
     "prompt_number": 6
    },
    {
     "cell_type": "markdown",
     "metadata": {},
     "source": [
      "So, the dimensionality of the SVD approximation grows quadratically both in the number of terms and number of documents. However, we can hold this constant by throwing away all but first $k$ terms in the approximation. This results in a new approximation \n",
      "\n",
      "$$\\hat{X_k} = U_k \\Sigma_k V{_k}{^T}$$ \n",
      "\n",
      "which is known to be the optimal $k$-dimensional approximation. Here, we will use $k = 2$."
     ]
    },
    {
     "cell_type": "code",
     "collapsed": false,
     "input": [
      "k = 2\n",
      "U_k = U[:, :k]\n",
      "# Sigma_diag is just an array...and going forward, \n",
      "# we only need its inverse, so we'll compute that\n",
      "invSigma_k = diag(1. / Sigma_diag[:k])\n",
      "# equivalently, `inv(diag(Sigma[:k]))`\n",
      "V_k = V[:, :k]"
     ],
     "language": "python",
     "metadata": {},
     "outputs": [],
     "prompt_number": 7
    },
    {
     "cell_type": "heading",
     "level": 1,
     "metadata": {},
     "source": [
      "The \"topic space\" translation"
     ]
    },
    {
     "cell_type": "markdown",
     "metadata": {},
     "source": [
      "We can now translate each document into the $k$-dimensional \"topic space\" as follows. If $d_j$ is a document column in $X$, then \n",
      "\n",
      "$$\\hat{d_j} = {\\Sigma_k}^{-1} U{_k}{^T} d_j~.$$"
     ]
    },
    {
     "cell_type": "code",
     "collapsed": false,
     "input": [
      "def doc_translate(d, U_k, invSigma_k):\n",
      "    \"\"\"\n",
      "    Translate a document `t` into a topic space U \\Sigma V.\n",
      "    We tranpose `d` because numpy forgets that it's really a column\n",
      "    vector.\n",
      "    \"\"\"\n",
      "    return dot(dot(invSigma_k, U_k.T), d.T)\n",
      "\n",
      "v_ABC = doc_translate(d_ABC, U_k, invSigma_k)\n",
      "v_response = doc_translate(d_response, U_k, invSigma_k)\n",
      "v_survey = doc_translate(d_survey, U_k, invSigma_k)\n",
      "print(v_ABC)\n",
      "print(v_response)"
     ],
     "language": "python",
     "metadata": {},
     "outputs": [
      {
       "output_type": "stream",
       "stream": "stdout",
       "text": [
        "[-0.1973928  -0.05591352]\n",
        "[-0.27946911  0.10677472]\n"
       ]
      }
     ],
     "prompt_number": 8
    },
    {
     "cell_type": "markdown",
     "metadata": {},
     "source": [
      "The same can be done for novel queries; we simply treat each query $d_q$ as if it were a new document and apply the same translation."
     ]
    },
    {
     "cell_type": "markdown",
     "metadata": {},
     "source": [
      "We also can translate terms into topic space. If $t_i$ is a term row in $X$, then\n",
      "                                                              \n",
      "$$\\hat{t_i} = {\\Sigma_k}^{-1} V{_k}{^T} t_i~.$$"
     ]
    },
    {
     "cell_type": "code",
     "collapsed": false,
     "input": [
      "def term_translate(t, invSigma_k, V_k):\n",
      "    \"\"\"\n",
      "    Translate a term `t` into a topic space U_k \\Sigma_k V_k \n",
      "    \"\"\"\n",
      "    return dot(dot(invSigma_k, V_k.T), t)\n",
      "\n",
      "v_human = term_translate(t_human, invSigma_k, V_k)\n",
      "v_user = term_translate(t_user, invSigma_k, V_k)\n",
      "v_graph = term_translate(t_graph, invSigma_k, V_k)\n",
      "print(v_human)\n",
      "print(v_user)"
     ],
     "language": "python",
     "metadata": {},
     "outputs": [
      {
       "output_type": "stream",
       "stream": "stdout",
       "text": [
        "[-0.34337556 -0.24969073]\n",
        "[ 0.02994261 -0.21169323]\n"
       ]
      }
     ],
     "prompt_number": 9
    },
    {
     "cell_type": "heading",
     "level": 1,
     "metadata": {},
     "source": [
      "Similarity in topic space"
     ]
    },
    {
     "cell_type": "markdown",
     "metadata": {},
     "source": [
      "Most importantly, we can compare pairs of vectors in the topic space $v_0$, $v_1$, regardless of their source (terms, queries, or documents). We take the relatedness of two topic-space vector to be monotonically related to the angle between the two vectors $\\theta$. More specifically, we compute the cosine of this angle, a measure called _cosine similarity_, which is defined as \n",
      "\n",
      "$$cos~\\theta = \\frac{v_0~\\cdot~v_1}{\\|v_0\\| \\|v_1\\|}$$\n",
      "\n",
      "where $\\|v\\|$ represents the Euclidean norm of the vector $v$. The value of this measure lines in $[-1, 1]$, where $1$ indicates vector identity and $-1$ indicates maximal vector dissimilarity."
     ]
    },
    {
     "cell_type": "code",
     "collapsed": false,
     "input": [
      "def cosine_similarity(v0, v1):\n",
      "    \"\"\"\n",
      "    Compute cosine similarity between two vectors `v0`, `v1`\n",
      "    \"\"\"\n",
      "    numerator = dot(v0, v1)\n",
      "    denominator = norm(v0) * norm(v1)\n",
      "    return numerator / denominator"
     ],
     "language": "python",
     "metadata": {},
     "outputs": [],
     "prompt_number": 10
    },
    {
     "cell_type": "markdown",
     "metadata": {},
     "source": [
      "We can use this measure to estimate  document and term similarities. As expected, the HCI terms and documents are more similar to each other than they are to graph-theory terms and documents, respectively."
     ]
    },
    {
     "cell_type": "code",
     "collapsed": false,
     "input": [
      "# term similarities\n",
      "print \"HUMAN v. USER:\\t{: .4f}\".format(cosine_similarity(v_human, v_user))\n",
      "print \"HUMAN v. GRAPH:\\t{:.4f}\".format(cosine_similarity(v_human, v_graph))"
     ],
     "language": "python",
     "metadata": {},
     "outputs": [
      {
       "output_type": "stream",
       "stream": "stdout",
       "text": [
        "HUMAN v. USER:\t 0.4690\n",
        "HUMAN v. GRAPH:\t-0.1364\n"
       ]
      }
     ],
     "prompt_number": 11
    },
    {
     "cell_type": "code",
     "collapsed": false,
     "input": [
      "# document similarities\n",
      "print \"'ABC' article v. 'RESPONSE' article:\\t{: .4f}\".format(\n",
      "      cosine_similarity(v_ABC, v_response))\n",
      "print \"'ABC' article v. 'SURVEY' article:\\t{: .4f}\".format(\n",
      "      cosine_similarity(v_ABC, v_survey))"
     ],
     "language": "python",
     "metadata": {},
     "outputs": [
      {
       "output_type": "stream",
       "stream": "stdout",
       "text": [
        "'ABC' article v. 'RESPONSE' article:\t 0.8015\n",
        "'ABC' article v. 'SURVEY' article:\t-0.1223\n"
       ]
      }
     ],
     "prompt_number": 12
    },
    {
     "cell_type": "markdown",
     "metadata": {},
     "source": [
      "When $k = 2$, we can also visualize terms and documents using a Cartesian coordinates. (In practice, we usually choose a much larger value of $k$.)"
     ]
    },
    {
     "cell_type": "code",
     "collapsed": false,
     "input": [
      "def plot_2d_translations(translations):\n",
      "    plot([0, 0], [0, 0], \".\")\n",
      "    for translation in translations:\n",
      "        plot([0, translation[0]], [0, translation[1]], \"-\")"
     ],
     "language": "python",
     "metadata": {},
     "outputs": [],
     "prompt_number": 13
    },
    {
     "cell_type": "code",
     "collapsed": false,
     "input": [
      "plot_2d_translations([v_human, v_user, v_graph])\n",
      "# green: 'HUMAN'\n",
      "# red: 'USER'\n",
      "# cyan: 'GRAPH'"
     ],
     "language": "python",
     "metadata": {},
     "outputs": [
      {
       "metadata": {},
       "output_type": "display_data",
       "png": "[encoded data removed]",
       "text": [
        "<matplotlib.figure.Figure at 0x106b84790>"
       ]
      }
     ],
     "prompt_number": 14
    },
    {
     "cell_type": "code",
     "collapsed": false,
     "input": [
      "plot_2d_translations([v_ABC, v_response, v_survey])\n",
      "# green: 'ABC'\n",
      "# red: 'RESPONSE'\n",
      "# cyan: 'SURVEY'"
     ],
     "language": "python",
     "metadata": {},
     "outputs": [
      {
       "metadata": {},
       "output_type": "display_data",
       "png": "[encoded data removed]",
       "text": [
        "<matplotlib.figure.Figure at 0x106c6b650>"
       ]
      }
     ],
     "prompt_number": 15
    },
    {
     "cell_type": "heading",
     "level": 1,
     "metadata": {},
     "source": [
      "Efficient and feasible LSA"
     ]
    },
    {
     "cell_type": "markdown",
     "metadata": {},
     "source": [
      "A limitation of the LSA method illustrated above is that the na\u00efve approach requires a full-rank term-document matrix which fits in memory; though this matrix is relatively sparse, the dense variant often grows on both dimensions every time a new document is entered! However, there exist many incremental (i.e., one document at a time) approximations of SVD, and one fast variant (Brand 2006) is implemented in the [Gensim](https://radimrehurek.com/gensim/) library (\u0158eh\u016f\u0159ek and Sojka 2010)."
     ]
    },
    {
     "cell_type": "heading",
     "level": 1,
     "metadata": {},
     "source": [
      "References"
     ]
    },
    {
     "cell_type": "markdown",
     "metadata": {},
     "source": [
      "M. Brand. 2006. Fast low-rank modifications of the thin singular value decomposition. _Linear Algebra and its Applications_ 415(1): 20-30.\n",
      "\n",
      "S. Deerwester, S. T. Dumais, G. W. Furnas, T. K. Landauer, and R. Harshman. 1990. Indexing by latent semantic analysis. 190. _Journal of the American Society for Information Science_ 41(6): 391-407.\n",
      "\n",
      "R. \u0158eh\u016f\u0159ek and P. Sojka. 2010. Software framework for topic modelling with large corpora. In _LREC_, 45-50."
     ]
    }
   ],
   "metadata": {}
  }
 ]
}